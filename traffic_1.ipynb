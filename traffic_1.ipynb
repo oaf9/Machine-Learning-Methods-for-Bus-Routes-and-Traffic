{
 "cells": [
  {
   "cell_type": "markdown",
   "metadata": {},
   "source": [
    "## Import Libraries Packages, Downloads"
   ]
  },
  {
   "cell_type": "code",
   "execution_count": 3,
   "metadata": {},
   "outputs": [],
   "source": [
    "import numpy as np\n",
    "import pandas as pd\n"
   ]
  },
  {
   "cell_type": "markdown",
   "metadata": {},
   "source": [
    "## Process Data"
   ]
  },
  {
   "cell_type": "code",
   "execution_count": null,
   "metadata": {},
   "outputs": [],
   "source": [
    "Data = pd.read_csv('NYC_data.csv')\n",
    "Data.head()"
   ]
  },
  {
   "cell_type": "code",
   "execution_count": null,
   "metadata": {},
   "outputs": [],
   "source": [
    "def process(df): \n",
    "    data = df.copy()\n",
    "\n",
    "    to_binary = {'Yes':1, 'No':0}\n",
    "\n",
    "    data = data.drop(['Busbreakdown_ID', 'Created_On', \n",
    "            'Informed_On','Incident_Number', \n",
    "            'Last_Updated_On', 'School_Age_or_PreK', \n",
    "            'School_Year', 'Route_Number', 'Schools_Serviced',\n",
    "            'Run_Type', 'Bus_No', 'Bus_Company_Name'], axis = 1)\n",
    "\n",
    "    data['Breakdown_or_Running_Late'] = data['Breakdown_or_Running_Late'].map({'Breakdown':1, 'Running Late':0})\n",
    "    data['Has_Contractor_Notified_Parents'] = data['Has_Contractor_Notified_Parents'].map(to_binary)\n",
    "    data['Has_Contractor_Notified_Schools'] = data['Has_Contractor_Notified_Schools'].map(to_binary)\n",
    "    data['Have_You_Alerted_OPT'] = data['Have_You_Alerted_OPT'].map(to_binary)\n",
    "\n",
    "    data['Occurred_On'] = pd.to_datetime(data['Occurred_On'])\n",
    "    data['Year'] = data['Occurred_On'].dt.year\n",
    "    data['Month'] = data['Occurred_On'].dt.month\n",
    "    data['Day'] = data['Occurred_On'].dt.day\n",
    "    data['Hour'] = data['Occurred_On'].dt.hour\n",
    "    data['Mins'] = data['Occurred_On'].dt.minute\n",
    "\n",
    "    data = data.drop(['Occurred_On'], axis = 1)\n",
    "\n",
    "\n",
    "    #one hot encode boro\n",
    "    for boro in data['Boro'].unique():\n",
    "        data[boro] = (data['Boro'] == boro).astype(int)\n",
    "\n",
    "    data = data.drop(['Boro'], axis = 1)\n",
    "\n",
    "    # one hot encode breakdown reason\n",
    "    for reason in data['Reason'].unique():\n",
    "        data[reason] = (data['Reason'] == reason).astype(int)\n",
    "\n",
    "    data = data.drop(['Reason'], axis = 1)\n",
    "    \n",
    "    \n",
    "    data['How_Long_Delayed'] = data.How_Long_Delayed.str.extract('(\\d+)')\n",
    "\n",
    "    return data\n"
   ]
  }
 ],
 "metadata": {
  "kernelspec": {
   "display_name": "base",
   "language": "python",
   "name": "python3"
  },
  "language_info": {
   "codemirror_mode": {
    "name": "ipython",
    "version": 3
   },
   "file_extension": ".py",
   "mimetype": "text/x-python",
   "name": "python",
   "nbconvert_exporter": "python",
   "pygments_lexer": "ipython3",
   "version": "3.9.7"
  }
 },
 "nbformat": 4,
 "nbformat_minor": 2
}
