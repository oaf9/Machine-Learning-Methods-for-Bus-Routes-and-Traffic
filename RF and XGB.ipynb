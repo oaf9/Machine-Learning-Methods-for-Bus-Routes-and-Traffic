{
 "cells": [
  {
   "cell_type": "markdown",
   "id": "ec165daa",
   "metadata": {
    "papermill": {
     "duration": 0.009672,
     "end_time": "2023-12-04T16:34:34.526935",
     "exception": false,
     "start_time": "2023-12-04T16:34:34.517263",
     "status": "completed"
    },
    "tags": []
   },
   "source": [
    "## Import Libraries Packages, Downloads"
   ]
  },
  {
   "cell_type": "code",
   "execution_count": 1,
   "id": "c33118d5",
   "metadata": {
    "execution": {
     "iopub.execute_input": "2023-12-04T16:34:34.547459Z",
     "iopub.status.busy": "2023-12-04T16:34:34.546972Z",
     "iopub.status.idle": "2023-12-04T16:34:34.984256Z",
     "shell.execute_reply": "2023-12-04T16:34:34.983055Z"
    },
    "papermill": {
     "duration": 0.450948,
     "end_time": "2023-12-04T16:34:34.987138",
     "exception": false,
     "start_time": "2023-12-04T16:34:34.536190",
     "status": "completed"
    },
    "tags": []
   },
   "outputs": [],
   "source": [
    "#manipulation and plotting libraries\n",
    "import numpy as np\n",
    "import pandas as pd\n",
    "import warnings\n",
    "import random\n",
    "import matplotlib.pyplot as plt\n",
    "from matplotlib.gridspec import GridSpec\n",
    "import math as mt\n",
    "\n",
    "warnings.filterwarnings('ignore')"
   ]
  },
  {
   "cell_type": "code",
   "execution_count": 2,
   "id": "df97cc87",
   "metadata": {
    "execution": {
     "iopub.execute_input": "2023-12-04T16:34:35.007728Z",
     "iopub.status.busy": "2023-12-04T16:34:35.007190Z",
     "iopub.status.idle": "2023-12-04T16:34:36.736537Z",
     "shell.execute_reply": "2023-12-04T16:34:36.735341Z"
    },
    "papermill": {
     "duration": 1.743829,
     "end_time": "2023-12-04T16:34:36.740262",
     "exception": false,
     "start_time": "2023-12-04T16:34:34.996433",
     "status": "completed"
    },
    "tags": []
   },
   "outputs": [],
   "source": [
    "#ML libraries\n",
    "warnings.filterwarnings('ignore')\n",
    "\n",
    "from sklearn.model_selection import train_test_split\n",
    "from sklearn.metrics import accuracy_score\n",
    "from sklearn.linear_model import LogisticRegression\n",
    "from sklearn.multiclass import OneVsRestClassifier, OneVsOneClassifier\n",
    "from sklearn.preprocessing import StandardScaler, MinMaxScaler\n",
    "from sklearn.preprocessing import PolynomialFeatures\n",
    "from sklearn.model_selection import GridSearchCV\n",
    "from sklearn.pipeline import Pipeline\n",
    "from sklearn.decomposition import PCA\n",
    "from sklearn.metrics import precision_score, recall_score, f1_score, classification_report"
   ]
  },
  {
   "cell_type": "markdown",
   "id": "1b23fbcb",
   "metadata": {
    "papermill": {
     "duration": 0.009108,
     "end_time": "2023-12-04T16:34:36.762217",
     "exception": false,
     "start_time": "2023-12-04T16:34:36.753109",
     "status": "completed"
    },
    "tags": []
   },
   "source": [
    "## Loading and Processing Data\n",
    "`Note: (Because none of the processing we are doing involves imputation or such, we are doing the processing before the split)`"
   ]
  },
  {
   "cell_type": "code",
   "execution_count": 3,
   "id": "91e316c0",
   "metadata": {
    "execution": {
     "iopub.execute_input": "2023-12-04T16:34:36.783349Z",
     "iopub.status.busy": "2023-12-04T16:34:36.782472Z",
     "iopub.status.idle": "2023-12-04T16:34:42.683504Z",
     "shell.execute_reply": "2023-12-04T16:34:42.681878Z"
    },
    "papermill": {
     "duration": 5.915725,
     "end_time": "2023-12-04T16:34:42.687277",
     "exception": false,
     "start_time": "2023-12-04T16:34:36.771552",
     "status": "completed"
    },
    "tags": []
   },
   "outputs": [],
   "source": [
    "warnings.filterwarnings('ignore')\n",
    "\n",
    "\n",
    "Data = pd.read_csv(\"/kaggle/input/final-formatted/formatted_data-2.csv\")"
   ]
  },
  {
   "cell_type": "code",
   "execution_count": 4,
   "id": "f1dd5bfc",
   "metadata": {
    "execution": {
     "iopub.execute_input": "2023-12-04T16:34:42.708333Z",
     "iopub.status.busy": "2023-12-04T16:34:42.707921Z",
     "iopub.status.idle": "2023-12-04T16:34:43.411228Z",
     "shell.execute_reply": "2023-12-04T16:34:43.409915Z"
    },
    "papermill": {
     "duration": 0.717505,
     "end_time": "2023-12-04T16:34:43.414266",
     "exception": false,
     "start_time": "2023-12-04T16:34:42.696761",
     "status": "completed"
    },
    "tags": []
   },
   "outputs": [
    {
     "data": {
      "text/html": [
       "<div>\n",
       "<style scoped>\n",
       "    .dataframe tbody tr th:only-of-type {\n",
       "        vertical-align: middle;\n",
       "    }\n",
       "\n",
       "    .dataframe tbody tr th {\n",
       "        vertical-align: top;\n",
       "    }\n",
       "\n",
       "    .dataframe thead th {\n",
       "        text-align: right;\n",
       "    }\n",
       "</style>\n",
       "<table border=\"1\" class=\"dataframe\">\n",
       "  <thead>\n",
       "    <tr style=\"text-align: right;\">\n",
       "      <th></th>\n",
       "      <th>School_Year</th>\n",
       "      <th>Busbreakdown_ID</th>\n",
       "      <th>Run_Type</th>\n",
       "      <th>Bus_No</th>\n",
       "      <th>Route_Number</th>\n",
       "      <th>Reason</th>\n",
       "      <th>Schools_Serviced</th>\n",
       "      <th>Occurred_On</th>\n",
       "      <th>Created_On</th>\n",
       "      <th>Boro</th>\n",
       "      <th>...</th>\n",
       "      <th>How_Long_Delayed</th>\n",
       "      <th>Number_Of_Students_On_The_Bus</th>\n",
       "      <th>Has_Contractor_Notified_Schools</th>\n",
       "      <th>Has_Contractor_Notified_Parents</th>\n",
       "      <th>Have_You_Alerted_OPT</th>\n",
       "      <th>Informed_On</th>\n",
       "      <th>Incident_Number</th>\n",
       "      <th>Last_Updated_On</th>\n",
       "      <th>Breakdown_or_Running_Late</th>\n",
       "      <th>School_Age_or_PreK</th>\n",
       "    </tr>\n",
       "  </thead>\n",
       "  <tbody>\n",
       "    <tr>\n",
       "      <th>0</th>\n",
       "      <td>2015-2016</td>\n",
       "      <td>1227538</td>\n",
       "      <td>Special Ed AM Run</td>\n",
       "      <td>2621</td>\n",
       "      <td>J711</td>\n",
       "      <td>Heavy Traffic</td>\n",
       "      <td>75003</td>\n",
       "      <td>11/05/2015 08:10:00 AM</td>\n",
       "      <td>11/05/2015 08:12:00 AM</td>\n",
       "      <td>New Jersey</td>\n",
       "      <td>...</td>\n",
       "      <td>max</td>\n",
       "      <td>11</td>\n",
       "      <td>Yes</td>\n",
       "      <td>No</td>\n",
       "      <td>Yes</td>\n",
       "      <td>11/05/2015 08:12:00 AM</td>\n",
       "      <td>NaN</td>\n",
       "      <td>11/05/2015 08:12:14 AM</td>\n",
       "      <td>Running Late</td>\n",
       "      <td>School-Age</td>\n",
       "    </tr>\n",
       "    <tr>\n",
       "      <th>1</th>\n",
       "      <td>2015-2016</td>\n",
       "      <td>1227539</td>\n",
       "      <td>Special Ed AM Run</td>\n",
       "      <td>1260</td>\n",
       "      <td>M351</td>\n",
       "      <td>Heavy Traffic</td>\n",
       "      <td>06716</td>\n",
       "      <td>11/05/2015 08:10:00 AM</td>\n",
       "      <td>11/05/2015 08:12:00 AM</td>\n",
       "      <td>Manhattan</td>\n",
       "      <td>...</td>\n",
       "      <td>0-30</td>\n",
       "      <td>2</td>\n",
       "      <td>Yes</td>\n",
       "      <td>Yes</td>\n",
       "      <td>No</td>\n",
       "      <td>11/05/2015 08:12:00 AM</td>\n",
       "      <td>NaN</td>\n",
       "      <td>11/05/2015 08:13:34 AM</td>\n",
       "      <td>Running Late</td>\n",
       "      <td>School-Age</td>\n",
       "    </tr>\n",
       "    <tr>\n",
       "      <th>2</th>\n",
       "      <td>2015-2016</td>\n",
       "      <td>1227540</td>\n",
       "      <td>Pre-K/EI</td>\n",
       "      <td>418</td>\n",
       "      <td>3</td>\n",
       "      <td>Heavy Traffic</td>\n",
       "      <td>C445</td>\n",
       "      <td>11/05/2015 08:09:00 AM</td>\n",
       "      <td>11/05/2015 08:13:00 AM</td>\n",
       "      <td>Bronx</td>\n",
       "      <td>...</td>\n",
       "      <td>0-30</td>\n",
       "      <td>8</td>\n",
       "      <td>Yes</td>\n",
       "      <td>Yes</td>\n",
       "      <td>Yes</td>\n",
       "      <td>11/05/2015 08:13:00 AM</td>\n",
       "      <td>NaN</td>\n",
       "      <td>11/05/2015 08:13:22 AM</td>\n",
       "      <td>Running Late</td>\n",
       "      <td>Pre-K</td>\n",
       "    </tr>\n",
       "    <tr>\n",
       "      <th>3</th>\n",
       "      <td>2015-2016</td>\n",
       "      <td>1227541</td>\n",
       "      <td>Special Ed AM Run</td>\n",
       "      <td>4522</td>\n",
       "      <td>M271</td>\n",
       "      <td>Heavy Traffic</td>\n",
       "      <td>02699</td>\n",
       "      <td>11/05/2015 08:12:00 AM</td>\n",
       "      <td>11/05/2015 08:14:00 AM</td>\n",
       "      <td>Manhattan</td>\n",
       "      <td>...</td>\n",
       "      <td>0-30</td>\n",
       "      <td>6</td>\n",
       "      <td>No</td>\n",
       "      <td>No</td>\n",
       "      <td>No</td>\n",
       "      <td>11/05/2015 08:14:00 AM</td>\n",
       "      <td>NaN</td>\n",
       "      <td>11/05/2015 08:14:04 AM</td>\n",
       "      <td>Running Late</td>\n",
       "      <td>School-Age</td>\n",
       "    </tr>\n",
       "    <tr>\n",
       "      <th>4</th>\n",
       "      <td>2015-2016</td>\n",
       "      <td>1227542</td>\n",
       "      <td>Special Ed AM Run</td>\n",
       "      <td>3124</td>\n",
       "      <td>M373</td>\n",
       "      <td>Heavy Traffic</td>\n",
       "      <td>02116</td>\n",
       "      <td>11/05/2015 08:13:00 AM</td>\n",
       "      <td>11/05/2015 08:14:00 AM</td>\n",
       "      <td>Manhattan</td>\n",
       "      <td>...</td>\n",
       "      <td>max</td>\n",
       "      <td>6</td>\n",
       "      <td>No</td>\n",
       "      <td>No</td>\n",
       "      <td>No</td>\n",
       "      <td>11/05/2015 08:14:00 AM</td>\n",
       "      <td>NaN</td>\n",
       "      <td>11/05/2015 08:14:08 AM</td>\n",
       "      <td>Running Late</td>\n",
       "      <td>School-Age</td>\n",
       "    </tr>\n",
       "    <tr>\n",
       "      <th>...</th>\n",
       "      <td>...</td>\n",
       "      <td>...</td>\n",
       "      <td>...</td>\n",
       "      <td>...</td>\n",
       "      <td>...</td>\n",
       "      <td>...</td>\n",
       "      <td>...</td>\n",
       "      <td>...</td>\n",
       "      <td>...</td>\n",
       "      <td>...</td>\n",
       "      <td>...</td>\n",
       "      <td>...</td>\n",
       "      <td>...</td>\n",
       "      <td>...</td>\n",
       "      <td>...</td>\n",
       "      <td>...</td>\n",
       "      <td>...</td>\n",
       "      <td>...</td>\n",
       "      <td>...</td>\n",
       "      <td>...</td>\n",
       "      <td>...</td>\n",
       "    </tr>\n",
       "    <tr>\n",
       "      <th>623415</th>\n",
       "      <td>2022-2023</td>\n",
       "      <td>1832905</td>\n",
       "      <td>Pre-K/EI</td>\n",
       "      <td>GV343</td>\n",
       "      <td>5</td>\n",
       "      <td>Mechanical Problem</td>\n",
       "      <td>C601</td>\n",
       "      <td>06/22/2023 02:40:00 PM</td>\n",
       "      <td>06/22/2023 03:26:00 PM</td>\n",
       "      <td>Bronx</td>\n",
       "      <td>...</td>\n",
       "      <td>max</td>\n",
       "      <td>0</td>\n",
       "      <td>Yes</td>\n",
       "      <td>Yes</td>\n",
       "      <td>Yes</td>\n",
       "      <td>06/22/2023 03:26:00 PM</td>\n",
       "      <td>NaN</td>\n",
       "      <td>01/01/1900 12:00:00 AM</td>\n",
       "      <td>Breakdown</td>\n",
       "      <td>Pre-K</td>\n",
       "    </tr>\n",
       "    <tr>\n",
       "      <th>623416</th>\n",
       "      <td>2022-2023</td>\n",
       "      <td>1832906</td>\n",
       "      <td>Pre-K/EI</td>\n",
       "      <td>343</td>\n",
       "      <td>VOA#5</td>\n",
       "      <td>Mechanical Problem</td>\n",
       "      <td>C601</td>\n",
       "      <td>06/22/2023 03:28:00 PM</td>\n",
       "      <td>06/22/2023 03:32:00 PM</td>\n",
       "      <td>Bronx</td>\n",
       "      <td>...</td>\n",
       "      <td>31-60</td>\n",
       "      <td>0</td>\n",
       "      <td>Yes</td>\n",
       "      <td>Yes</td>\n",
       "      <td>No</td>\n",
       "      <td>06/22/2023 03:32:00 PM</td>\n",
       "      <td>NaN</td>\n",
       "      <td>01/01/1900 12:00:00 AM</td>\n",
       "      <td>Running Late</td>\n",
       "      <td>Pre-K</td>\n",
       "    </tr>\n",
       "    <tr>\n",
       "      <th>623417</th>\n",
       "      <td>2022-2023</td>\n",
       "      <td>1832907</td>\n",
       "      <td>Special Ed PM Run</td>\n",
       "      <td>8015</td>\n",
       "      <td>X604</td>\n",
       "      <td>Mechanical Problem</td>\n",
       "      <td>07388,07617</td>\n",
       "      <td>06/22/2023 02:45:00 PM</td>\n",
       "      <td>06/22/2023 04:05:00 PM</td>\n",
       "      <td>Bronx</td>\n",
       "      <td>...</td>\n",
       "      <td>max</td>\n",
       "      <td>0</td>\n",
       "      <td>No</td>\n",
       "      <td>No</td>\n",
       "      <td>No</td>\n",
       "      <td>06/22/2023 04:05:00 PM</td>\n",
       "      <td>NaN</td>\n",
       "      <td>01/01/1900 12:00:00 AM</td>\n",
       "      <td>Breakdown</td>\n",
       "      <td>School-Age</td>\n",
       "    </tr>\n",
       "    <tr>\n",
       "      <th>623418</th>\n",
       "      <td>2022-2023</td>\n",
       "      <td>1832908</td>\n",
       "      <td>Special Ed PM Run</td>\n",
       "      <td>80131</td>\n",
       "      <td>M450</td>\n",
       "      <td>Won`t Start</td>\n",
       "      <td>02063,02721</td>\n",
       "      <td>06/22/2023 04:11:00 PM</td>\n",
       "      <td>06/22/2023 04:14:00 PM</td>\n",
       "      <td>Manhattan</td>\n",
       "      <td>...</td>\n",
       "      <td>max</td>\n",
       "      <td>4</td>\n",
       "      <td>Yes</td>\n",
       "      <td>No</td>\n",
       "      <td>No</td>\n",
       "      <td>06/22/2023 04:14:00 PM</td>\n",
       "      <td>NaN</td>\n",
       "      <td>01/01/1900 12:00:00 AM</td>\n",
       "      <td>Breakdown</td>\n",
       "      <td>School-Age</td>\n",
       "    </tr>\n",
       "    <tr>\n",
       "      <th>623419</th>\n",
       "      <td>2022-2023</td>\n",
       "      <td>1832909</td>\n",
       "      <td>Special Ed PM Run</td>\n",
       "      <td>9160</td>\n",
       "      <td>K964</td>\n",
       "      <td>Won`t Start</td>\n",
       "      <td>14023,14367,14435,14450,14467,20915</td>\n",
       "      <td>06/22/2023 04:34:00 PM</td>\n",
       "      <td>06/22/2023 06:34:00 PM</td>\n",
       "      <td>Brooklyn</td>\n",
       "      <td>...</td>\n",
       "      <td>61-90</td>\n",
       "      <td>0</td>\n",
       "      <td>Yes</td>\n",
       "      <td>Yes</td>\n",
       "      <td>No</td>\n",
       "      <td>06/22/2023 06:34:00 PM</td>\n",
       "      <td>NaN</td>\n",
       "      <td>01/01/1900 12:00:00 AM</td>\n",
       "      <td>Running Late</td>\n",
       "      <td>School-Age</td>\n",
       "    </tr>\n",
       "  </tbody>\n",
       "</table>\n",
       "<p>623420 rows × 21 columns</p>\n",
       "</div>"
      ],
      "text/plain": [
       "       School_Year  Busbreakdown_ID           Run_Type Bus_No Route_Number  \\\n",
       "0        2015-2016          1227538  Special Ed AM Run   2621         J711   \n",
       "1        2015-2016          1227539  Special Ed AM Run   1260         M351   \n",
       "2        2015-2016          1227540           Pre-K/EI    418            3   \n",
       "3        2015-2016          1227541  Special Ed AM Run   4522         M271   \n",
       "4        2015-2016          1227542  Special Ed AM Run   3124         M373   \n",
       "...            ...              ...                ...    ...          ...   \n",
       "623415   2022-2023          1832905           Pre-K/EI  GV343            5   \n",
       "623416   2022-2023          1832906           Pre-K/EI    343        VOA#5   \n",
       "623417   2022-2023          1832907  Special Ed PM Run   8015         X604   \n",
       "623418   2022-2023          1832908  Special Ed PM Run  80131         M450   \n",
       "623419   2022-2023          1832909  Special Ed PM Run   9160         K964   \n",
       "\n",
       "                    Reason                     Schools_Serviced  \\\n",
       "0            Heavy Traffic                                75003   \n",
       "1            Heavy Traffic                                06716   \n",
       "2            Heavy Traffic                                 C445   \n",
       "3            Heavy Traffic                                02699   \n",
       "4            Heavy Traffic                                02116   \n",
       "...                    ...                                  ...   \n",
       "623415  Mechanical Problem                                 C601   \n",
       "623416  Mechanical Problem                                 C601   \n",
       "623417  Mechanical Problem                          07388,07617   \n",
       "623418         Won`t Start                          02063,02721   \n",
       "623419         Won`t Start  14023,14367,14435,14450,14467,20915   \n",
       "\n",
       "                   Occurred_On              Created_On        Boro  ...  \\\n",
       "0       11/05/2015 08:10:00 AM  11/05/2015 08:12:00 AM  New Jersey  ...   \n",
       "1       11/05/2015 08:10:00 AM  11/05/2015 08:12:00 AM   Manhattan  ...   \n",
       "2       11/05/2015 08:09:00 AM  11/05/2015 08:13:00 AM       Bronx  ...   \n",
       "3       11/05/2015 08:12:00 AM  11/05/2015 08:14:00 AM   Manhattan  ...   \n",
       "4       11/05/2015 08:13:00 AM  11/05/2015 08:14:00 AM   Manhattan  ...   \n",
       "...                        ...                     ...         ...  ...   \n",
       "623415  06/22/2023 02:40:00 PM  06/22/2023 03:26:00 PM       Bronx  ...   \n",
       "623416  06/22/2023 03:28:00 PM  06/22/2023 03:32:00 PM       Bronx  ...   \n",
       "623417  06/22/2023 02:45:00 PM  06/22/2023 04:05:00 PM       Bronx  ...   \n",
       "623418  06/22/2023 04:11:00 PM  06/22/2023 04:14:00 PM   Manhattan  ...   \n",
       "623419  06/22/2023 04:34:00 PM  06/22/2023 06:34:00 PM    Brooklyn  ...   \n",
       "\n",
       "       How_Long_Delayed Number_Of_Students_On_The_Bus  \\\n",
       "0                   max                            11   \n",
       "1                  0-30                             2   \n",
       "2                  0-30                             8   \n",
       "3                  0-30                             6   \n",
       "4                   max                             6   \n",
       "...                 ...                           ...   \n",
       "623415              max                             0   \n",
       "623416            31-60                             0   \n",
       "623417              max                             0   \n",
       "623418              max                             4   \n",
       "623419            61-90                             0   \n",
       "\n",
       "        Has_Contractor_Notified_Schools Has_Contractor_Notified_Parents  \\\n",
       "0                                   Yes                              No   \n",
       "1                                   Yes                             Yes   \n",
       "2                                   Yes                             Yes   \n",
       "3                                    No                              No   \n",
       "4                                    No                              No   \n",
       "...                                 ...                             ...   \n",
       "623415                              Yes                             Yes   \n",
       "623416                              Yes                             Yes   \n",
       "623417                               No                              No   \n",
       "623418                              Yes                              No   \n",
       "623419                              Yes                             Yes   \n",
       "\n",
       "       Have_You_Alerted_OPT             Informed_On Incident_Number  \\\n",
       "0                       Yes  11/05/2015 08:12:00 AM             NaN   \n",
       "1                        No  11/05/2015 08:12:00 AM             NaN   \n",
       "2                       Yes  11/05/2015 08:13:00 AM             NaN   \n",
       "3                        No  11/05/2015 08:14:00 AM             NaN   \n",
       "4                        No  11/05/2015 08:14:00 AM             NaN   \n",
       "...                     ...                     ...             ...   \n",
       "623415                  Yes  06/22/2023 03:26:00 PM             NaN   \n",
       "623416                   No  06/22/2023 03:32:00 PM             NaN   \n",
       "623417                   No  06/22/2023 04:05:00 PM             NaN   \n",
       "623418                   No  06/22/2023 04:14:00 PM             NaN   \n",
       "623419                   No  06/22/2023 06:34:00 PM             NaN   \n",
       "\n",
       "               Last_Updated_On Breakdown_or_Running_Late School_Age_or_PreK  \n",
       "0       11/05/2015 08:12:14 AM              Running Late         School-Age  \n",
       "1       11/05/2015 08:13:34 AM              Running Late         School-Age  \n",
       "2       11/05/2015 08:13:22 AM              Running Late              Pre-K  \n",
       "3       11/05/2015 08:14:04 AM              Running Late         School-Age  \n",
       "4       11/05/2015 08:14:08 AM              Running Late         School-Age  \n",
       "...                        ...                       ...                ...  \n",
       "623415  01/01/1900 12:00:00 AM                 Breakdown              Pre-K  \n",
       "623416  01/01/1900 12:00:00 AM              Running Late              Pre-K  \n",
       "623417  01/01/1900 12:00:00 AM                 Breakdown         School-Age  \n",
       "623418  01/01/1900 12:00:00 AM                 Breakdown         School-Age  \n",
       "623419  01/01/1900 12:00:00 AM              Running Late         School-Age  \n",
       "\n",
       "[623420 rows x 21 columns]"
      ]
     },
     "execution_count": 4,
     "metadata": {},
     "output_type": "execute_result"
    }
   ],
   "source": [
    "Data"
   ]
  },
  {
   "cell_type": "markdown",
   "id": "a985031d",
   "metadata": {
    "papermill": {
     "duration": 0.009854,
     "end_time": "2023-12-04T16:34:43.434261",
     "exception": false,
     "start_time": "2023-12-04T16:34:43.424407",
     "status": "completed"
    },
    "tags": []
   },
   "source": [
    "## Plotting"
   ]
  },
  {
   "cell_type": "code",
   "execution_count": 5,
   "id": "09141953",
   "metadata": {
    "execution": {
     "iopub.execute_input": "2023-12-04T16:34:43.456451Z",
     "iopub.status.busy": "2023-12-04T16:34:43.456067Z",
     "iopub.status.idle": "2023-12-04T16:34:45.055832Z",
     "shell.execute_reply": "2023-12-04T16:34:45.054857Z"
    },
    "papermill": {
     "duration": 1.613984,
     "end_time": "2023-12-04T16:34:45.058431",
     "exception": false,
     "start_time": "2023-12-04T16:34:43.444447",
     "status": "completed"
    },
    "tags": []
   },
   "outputs": [
    {
     "data": {
      "image/png": "[encoded data removed]",
      "text/plain": [
       "<Figure size 2400x600 with 4 Axes>"
      ]
     },
     "metadata": {},
     "output_type": "display_data"
    }
   ],
   "source": [
    "warnings.filterwarnings('ignore')\n",
    "\n",
    "columns_to_plot_Data = ['Boro','How_Long_Delayed' ,'Reason', 'Breakdown_or_Running_Late']\n",
    "\n",
    "fig, axs = plt.subplots(1,4, figsize=(24, 6))\n",
    "fig.suptitle(\"Plots of Features\")\n",
    "fig.subplots_adjust(hspace = .5, wspace=.2)\n",
    "axs = axs.ravel()\n",
    "\n",
    "i = 0\n",
    "for column_name in columns_to_plot_Data:\n",
    "\n",
    "    counts = Data[column_name].value_counts()\n",
    "    \n",
    "    # Rotate the tick labels in the second subplot\n",
    "    axs[i].bar(counts.index, counts.values)\n",
    "    axs[i].set_title(f\"{column_name}\")\n",
    "    axs[i].set_xticklabels(counts.index, rotation=90)\n",
    "    i += 1\n",
    "\n"
   ]
  },
  {
   "cell_type": "code",
   "execution_count": 6,
   "id": "c80aa92b",
   "metadata": {
    "execution": {
     "iopub.execute_input": "2023-12-04T16:34:45.084857Z",
     "iopub.status.busy": "2023-12-04T16:34:45.084431Z",
     "iopub.status.idle": "2023-12-04T16:34:45.107029Z",
     "shell.execute_reply": "2023-12-04T16:34:45.105878Z"
    },
    "papermill": {
     "duration": 0.039431,
     "end_time": "2023-12-04T16:34:45.110029",
     "exception": false,
     "start_time": "2023-12-04T16:34:45.070598",
     "status": "completed"
    },
    "tags": []
   },
   "outputs": [],
   "source": [
    "def process(df): \n",
    "\n",
    "    #copy dataframe\n",
    "    data = df.copy()\n",
    "    #data.columns = data.columns.astype(str)\n",
    "\n",
    "    #making a dictionary since we need to do a lot of conversion\n",
    "    to_binary = {'Yes':1, 'No':0}\n",
    "\n",
    "    #dropping columns we won't be able to use\n",
    "    data = data.drop(['Busbreakdown_ID', 'Created_On', \n",
    "            'Informed_On','Incident_Number', \n",
    "            'Last_Updated_On', 'School_Age_or_PreK', \n",
    "            'School_Year', 'Route_Number', 'Schools_Serviced',\n",
    "            'Run_Type', 'Bus_No', 'Bus_Company_Name'], axis = 1)\n",
    "    \n",
    "    data = data.dropna()\n",
    "\n",
    "    #mapping literals to binary values\n",
    "    data['Breakdown_or_Running_Late'] = data['Breakdown_or_Running_Late'].map({'Breakdown':1, 'Running Late':0})\n",
    "    data['Has_Contractor_Notified_Parents'] = data['Has_Contractor_Notified_Parents'].map(to_binary)\n",
    "    data['Has_Contractor_Notified_Schools'] = data['Has_Contractor_Notified_Schools'].map(to_binary)\n",
    "    data['Have_You_Alerted_OPT'] = data['Have_You_Alerted_OPT'].map(to_binary)\n",
    "\n",
    "    #getting month/date values\n",
    "    data['Occurred_On'] = pd.to_datetime(data['Occurred_On'])\n",
    "    data['Year'] = data['Occurred_On'].dt.year\n",
    "    data['Month'] = data['Occurred_On'].dt.month\n",
    "    data['Day'] = data['Occurred_On'].dt.day\n",
    "    data['Hour'] = data['Occurred_On'].dt.hour\n",
    "    data['Mins'] = data['Occurred_On'].dt.minute\n",
    "    data['Weekday'] = data['Occurred_On'].dt.weekday\n",
    "\n",
    "\n",
    "    data[\"sin_month\"] = np.sin(2*np.pi*data[\"Month\"]/max(data[\"Month\"]))\n",
    "    data[\"cos_month\"] = np.cos(2*np.pi*data[\"Month\"]/max(data[\"Month\"]))\n",
    "    data[\"sin_hour\"] = np.sin(2*np.pi*data[\"Hour\"]/max(data[\"Hour\"]))\n",
    "    data[\"cos_hour\"] = np.cos(2*np.pi*data[\"Hour\"]/max(data[\"Hour\"]))\n",
    "    data[\"sin_mins\"] = np.sin(2*np.pi*data[\"Mins\"]/max(data[\"Mins\"]))\n",
    "    data[\"cos_mins\"] = np.cos(2*np.pi*data[\"Mins\"]/max(data[\"Mins\"]))\n",
    "\n",
    "    #one hot encode boro\n",
    "    #data['Boro'] = data['Boro'].fillna('None')\n",
    "    for boro in data['Boro'].unique():\n",
    "        data[boro] = (data['Boro'] == boro).astype(int)\n",
    "\n",
    "    # one hot encode breakdown reason\n",
    "    for reason in data['Reason'].unique():\n",
    "        data[reason] = (data['Reason'] == reason).astype(int)\n",
    "\n",
    "    data = data.drop(['Boro'], axis = 1)\n",
    "    data = data.drop(['Reason'], axis = 1)\n",
    "\n",
    "    #plot some features\n",
    "\n",
    "    i = 0\n",
    "    columns_to_plot_df = ['Month', 'Day', 'Hour', 'Weekday']\n",
    "\n",
    "    fig, axs = plt.subplots(1,4, figsize=(24, 6))\n",
    "    fig.suptitle(\"Plots of Features\")\n",
    "    fig.subplots_adjust(hspace = .5, wspace=.2)\n",
    "    axs = axs.ravel()\n",
    "\n",
    "    for column_name in columns_to_plot_df:\n",
    "        \n",
    "        counts = data[column_name].value_counts().sort_index()\n",
    "        \n",
    "        # Rotate the tick labels in the second subplot\n",
    "        axs[i].bar(counts.index, counts.values)\n",
    "        axs[i].set_title(f\"{column_name}\")\n",
    "        i += 1\n",
    "\n",
    "    data = data.drop(['Occurred_On', 'Month', 'Day', 'Hour', 'Mins'], axis = 1)\n",
    "\n",
    "    return data\n"
   ]
  },
  {
   "cell_type": "code",
   "execution_count": 7,
   "id": "275f2236",
   "metadata": {
    "execution": {
     "iopub.execute_input": "2023-12-04T16:34:45.136098Z",
     "iopub.status.busy": "2023-12-04T16:34:45.135661Z",
     "iopub.status.idle": "2023-12-04T16:34:53.618989Z",
     "shell.execute_reply": "2023-12-04T16:34:53.617748Z"
    },
    "papermill": {
     "duration": 8.499606,
     "end_time": "2023-12-04T16:34:53.621775",
     "exception": false,
     "start_time": "2023-12-04T16:34:45.122169",
     "status": "completed"
    },
    "tags": []
   },
   "outputs": [
    {
     "data": {
      "image/png": "[encoded data removed]",
      "text/plain": [
       "<Figure size 2400x600 with 4 Axes>"
      ]
     },
     "metadata": {},
     "output_type": "display_data"
    }
   ],
   "source": [
    "#Process the data\n",
    "df = process(Data)"
   ]
  },
  {
   "cell_type": "markdown",
   "id": "f3d049db",
   "metadata": {
    "papermill": {
     "duration": 0.012542,
     "end_time": "2023-12-04T16:34:53.647288",
     "exception": false,
     "start_time": "2023-12-04T16:34:53.634746",
     "status": "completed"
    },
    "tags": []
   },
   "source": [
    "### Train Test Split"
   ]
  },
  {
   "cell_type": "code",
   "execution_count": 8,
   "id": "87c1d797",
   "metadata": {
    "execution": {
     "iopub.execute_input": "2023-12-04T16:34:53.675255Z",
     "iopub.status.busy": "2023-12-04T16:34:53.674840Z",
     "iopub.status.idle": "2023-12-04T16:34:54.315553Z",
     "shell.execute_reply": "2023-12-04T16:34:54.314380Z"
    },
    "papermill": {
     "duration": 0.658172,
     "end_time": "2023-12-04T16:34:54.318414",
     "exception": false,
     "start_time": "2023-12-04T16:34:53.660242",
     "status": "completed"
    },
    "tags": []
   },
   "outputs": [],
   "source": [
    "X = df.drop(['How_Long_Delayed'], axis = 1)\n",
    "y = df['How_Long_Delayed']\n",
    "\n",
    "X_train, X_test,y_train, y_test = train_test_split(X,y, test_size= .1)"
   ]
  },
  {
   "cell_type": "markdown",
   "id": "20d061b0",
   "metadata": {
    "papermill": {
     "duration": 0.012992,
     "end_time": "2023-12-04T16:34:54.344886",
     "exception": false,
     "start_time": "2023-12-04T16:34:54.331894",
     "status": "completed"
    },
    "tags": []
   },
   "source": [
    "## Building a Baseline Classifier\n",
    "#### 1) (Almost) Random Guessing\n"
   ]
  },
  {
   "cell_type": "code",
   "execution_count": 9,
   "id": "542062d5",
   "metadata": {
    "execution": {
     "iopub.execute_input": "2023-12-04T16:34:54.373201Z",
     "iopub.status.busy": "2023-12-04T16:34:54.372462Z",
     "iopub.status.idle": "2023-12-04T16:34:58.198796Z",
     "shell.execute_reply": "2023-12-04T16:34:58.197613Z"
    },
    "papermill": {
     "duration": 3.843348,
     "end_time": "2023-12-04T16:34:58.201429",
     "exception": false,
     "start_time": "2023-12-04T16:34:54.358081",
     "status": "completed"
    },
    "tags": []
   },
   "outputs": [
    {
     "data": {
      "text/plain": [
       "0.42289849390702083"
      ]
     },
     "execution_count": 9,
     "metadata": {},
     "output_type": "execute_result"
    }
   ],
   "source": [
    "classes = {0:'0-30', 1: '31-60', 2:'61-90', 3:'91-120', 4:'-1'}\n",
    "\n",
    "guess = []\n",
    "\n",
    "for index, row in X_test.iterrows():\n",
    "\n",
    "    int = 0\n",
    "\n",
    "    if row.Breakdown_or_Running_Late == 1:\n",
    "        int = 4\n",
    "    else:\n",
    "        int = 1\n",
    "\n",
    "    guess.append(classes[int])\n",
    "    \n",
    "accuracy_score(y_test, guess)\n",
    "\n"
   ]
  },
  {
   "cell_type": "code",
   "execution_count": 10,
   "id": "26ddfa3e",
   "metadata": {
    "execution": {
     "iopub.execute_input": "2023-12-04T16:34:58.229779Z",
     "iopub.status.busy": "2023-12-04T16:34:58.229320Z",
     "iopub.status.idle": "2023-12-04T16:34:58.424410Z",
     "shell.execute_reply": "2023-12-04T16:34:58.423150Z"
    },
    "papermill": {
     "duration": 0.212697,
     "end_time": "2023-12-04T16:34:58.427305",
     "exception": false,
     "start_time": "2023-12-04T16:34:58.214608",
     "status": "completed"
    },
    "tags": []
   },
   "outputs": [],
   "source": [
    "from sklearn.preprocessing import LabelEncoder\n",
    "\n",
    "label_encoder = LabelEncoder()\n",
    "y_train_encoded = label_encoder.fit_transform(y_train)\n",
    "y_test_encoded = label_encoder.transform(y_test)"
   ]
  },
  {
   "cell_type": "markdown",
   "id": "6c094092",
   "metadata": {
    "papermill": {
     "duration": 0.013074,
     "end_time": "2023-12-04T16:34:58.454308",
     "exception": false,
     "start_time": "2023-12-04T16:34:58.441234",
     "status": "completed"
    },
    "tags": []
   },
   "source": [
    "Logistic"
   ]
  },
  {
   "cell_type": "code",
   "execution_count": 11,
   "id": "c663cf17",
   "metadata": {
    "execution": {
     "iopub.execute_input": "2023-12-04T16:34:58.483833Z",
     "iopub.status.busy": "2023-12-04T16:34:58.483290Z",
     "iopub.status.idle": "2023-12-04T16:35:13.221861Z",
     "shell.execute_reply": "2023-12-04T16:35:13.220551Z"
    },
    "papermill": {
     "duration": 14.757119,
     "end_time": "2023-12-04T16:35:13.224843",
     "exception": false,
     "start_time": "2023-12-04T16:34:58.467724",
     "status": "completed"
    },
    "tags": []
   },
   "outputs": [
    {
     "name": "stdout",
     "output_type": "stream",
     "text": [
      "Logistic Regression Training Score: 0.541678993612978\n",
      "Logistic Regression Test Score: 0.5392531608350485\n",
      "              precision    recall  f1-score   support\n",
      "\n",
      "        0-30       0.49      0.55      0.52     25313\n",
      "       31-60       0.51      0.54      0.53     25889\n",
      "       61-90       0.00      0.00      0.00      4211\n",
      "         max       0.91      0.90      0.90      5805\n",
      "\n",
      "    accuracy                           0.54     61218\n",
      "   macro avg       0.48      0.50      0.49     61218\n",
      "weighted avg       0.51      0.54      0.52     61218\n",
      "\n"
     ]
    }
   ],
   "source": [
    "logreg_pipe = Pipeline([\n",
    "    ('scaler', StandardScaler()),\n",
    "    ('poly', PolynomialFeatures(degree=1)),\n",
    "    ('pca', PCA(n_components=3)),\n",
    "    ('mod', LogisticRegression(multi_class = 'ovr'))\n",
    "])\n",
    "\n",
    "logreg_pipe.fit(X_train, y_train_encoded)\n",
    "\n",
    "train_score_logreg = logreg_pipe.score(X_train, y_train_encoded)\n",
    "print(f'Logistic Regression Training Score: {train_score_logreg}')\n",
    "\n",
    "test_score_logreg = logreg_pipe.score(X_test, y_test_encoded)\n",
    "print(f'Logistic Regression Test Score: {test_score_logreg}')\n",
    "\n",
    "# Make predictions on the test set\n",
    "logreg_predictions_encoded = logreg_pipe.predict(X_test)\n",
    "logreg_predictions_original = label_encoder.inverse_transform(logreg_predictions_encoded)\n",
    "\n",
    "# Calculate precision, recall, and F1 scores for each label\n",
    "precision_scores_logreg = precision_score(y_test, logreg_predictions_original, average=None)\n",
    "recall_scores_logreg = recall_score(y_test, logreg_predictions_original, average=None)\n",
    "f1_scores_logreg = f1_score(y_test, logreg_predictions_original, average=None)\n",
    "\n",
    "class_report_logreg = classification_report(y_test, logreg_predictions_original)\n",
    "print(class_report_logreg)"
   ]
  },
  {
   "cell_type": "code",
   "execution_count": 12,
   "id": "021c5c04",
   "metadata": {
    "execution": {
     "iopub.execute_input": "2023-12-04T16:35:13.254646Z",
     "iopub.status.busy": "2023-12-04T16:35:13.254205Z",
     "iopub.status.idle": "2023-12-04T16:35:13.470563Z",
     "shell.execute_reply": "2023-12-04T16:35:13.469188Z"
    },
    "papermill": {
     "duration": 0.234445,
     "end_time": "2023-12-04T16:35:13.473440",
     "exception": false,
     "start_time": "2023-12-04T16:35:13.238995",
     "status": "completed"
    },
    "tags": []
   },
   "outputs": [
    {
     "name": "stdout",
     "output_type": "stream",
     "text": [
      "Logreg AUC Score (Class 0): 0.6301341115376691\n",
      "Logreg AUC Score (Class 1): 0.612273166143987\n",
      "Logreg AUC Score (Class 2): 0.6322976530227093\n",
      "Logreg AUC Score (Class 3): 0.9686959591023746\n",
      "Logreg Average AUC Score: 0.7108502224516849\n"
     ]
    }
   ],
   "source": [
    "from sklearn.metrics import roc_auc_score, roc_curve\n",
    "\n",
    "# Make predictions on the test set probabilities for each class\n",
    "probabilities = logreg_pipe.predict_proba(X_test)\n",
    "\n",
    "# Calculate AUC score for each class\n",
    "auc_scores = []\n",
    "for i in range(probabilities.shape[1]):\n",
    "    auc_score_class_i = roc_auc_score(y_test_encoded == i, probabilities[:, i])\n",
    "    auc_scores.append(auc_score_class_i)\n",
    "    print(f'Logreg AUC Score (Class {i}): {auc_score_class_i}')\n",
    "\n",
    "# Average AUC scores over all classes\n",
    "average_auc_score_xgb = np.mean(auc_scores)\n",
    "print(f'Logreg Average AUC Score: {average_auc_score_xgb}')\n"
   ]
  },
  {
   "cell_type": "markdown",
   "id": "85b7c393",
   "metadata": {
    "papermill": {
     "duration": 0.014265,
     "end_time": "2023-12-04T16:35:13.501681",
     "exception": false,
     "start_time": "2023-12-04T16:35:13.487416",
     "status": "completed"
    },
    "tags": []
   },
   "source": [
    "XGB Classifier"
   ]
  },
  {
   "cell_type": "code",
   "execution_count": 13,
   "id": "289e5a45",
   "metadata": {
    "execution": {
     "iopub.execute_input": "2023-12-04T16:35:13.531317Z",
     "iopub.status.busy": "2023-12-04T16:35:13.530869Z",
     "iopub.status.idle": "2023-12-04T16:35:13.736880Z",
     "shell.execute_reply": "2023-12-04T16:35:13.735649Z"
    },
    "papermill": {
     "duration": 0.224142,
     "end_time": "2023-12-04T16:35:13.739811",
     "exception": false,
     "start_time": "2023-12-04T16:35:13.515669",
     "status": "completed"
    },
    "tags": []
   },
   "outputs": [],
   "source": [
    "from xgboost import XGBClassifier\n",
    "\n",
    "# pipe = Pipeline(steps=[\n",
    "#     ('scaler', StandardScaler()),\n",
    "#     ('poly', PolynomialFeatures(degree=1)),\n",
    "#     ('mod', XGBClassifier())\n",
    "# ])\n",
    "\n",
    "# param_grid = {\n",
    "#     'mod__n_estimators': [500],  \n",
    "#     'mod__learning_rate': [0.1],\n",
    "#     'mod__max_depth': [5],\n",
    "#     'mod__min_child_weight': [2]\n",
    "# }\n",
    "\n",
    "\n",
    "# gridcv = GridSearchCV(pipe,\n",
    "#                       param_grid=param_grid,\n",
    "#                       return_train_score=True,\n",
    "#                       cv=2,\n",
    "#                       verbose=3)\n",
    "\n",
    "# gridcv.fit(X_train, y_train_encoded)\n",
    "# print(f'XGBoost Score: {gridcv.score(X_test, y_test_encoded)}')"
   ]
  },
  {
   "cell_type": "code",
   "execution_count": 14,
   "id": "81f90bc1",
   "metadata": {
    "execution": {
     "iopub.execute_input": "2023-12-04T16:35:13.770227Z",
     "iopub.status.busy": "2023-12-04T16:35:13.769778Z",
     "iopub.status.idle": "2023-12-04T16:35:13.775275Z",
     "shell.execute_reply": "2023-12-04T16:35:13.773994Z"
    },
    "papermill": {
     "duration": 0.023747,
     "end_time": "2023-12-04T16:35:13.778009",
     "exception": false,
     "start_time": "2023-12-04T16:35:13.754262",
     "status": "completed"
    },
    "tags": []
   },
   "outputs": [],
   "source": [
    "# best_params = gridcv.best_params_\n",
    "# print(f'Best Hyperparameters: {best_params}')"
   ]
  },
  {
   "cell_type": "code",
   "execution_count": 15,
   "id": "4cc0aa9b",
   "metadata": {
    "execution": {
     "iopub.execute_input": "2023-12-04T16:35:13.809323Z",
     "iopub.status.busy": "2023-12-04T16:35:13.808590Z",
     "iopub.status.idle": "2023-12-04T16:37:17.811601Z",
     "shell.execute_reply": "2023-12-04T16:37:17.809907Z"
    },
    "papermill": {
     "duration": 124.022648,
     "end_time": "2023-12-04T16:37:17.815016",
     "exception": false,
     "start_time": "2023-12-04T16:35:13.792368",
     "status": "completed"
    },
    "tags": []
   },
   "outputs": [
    {
     "name": "stdout",
     "output_type": "stream",
     "text": [
      "   Label  Precision (XGB)  Recall (XGB)  F1 Score (XGB)\n",
      "0   0-30         0.737002      0.775056        0.755550\n",
      "1  31-60         0.738159      0.750048        0.744056\n",
      "2  61-90         0.753165      0.508668        0.607229\n",
      "3    max         0.992107      0.931094        0.960633\n",
      "              precision    recall  f1-score   support\n",
      "\n",
      "        0-30       0.74      0.78      0.76     25313\n",
      "       31-60       0.74      0.75      0.74     25889\n",
      "       61-90       0.75      0.51      0.61      4211\n",
      "         max       0.99      0.93      0.96      5805\n",
      "\n",
      "    accuracy                           0.76     61218\n",
      "   macro avg       0.81      0.74      0.77     61218\n",
      "weighted avg       0.76      0.76      0.76     61218\n",
      "\n"
     ]
    }
   ],
   "source": [
    "best_params_xgb = {\n",
    "    'learning_rate': 0.1,\n",
    "    'max_depth': 5,\n",
    "    'min_child_weight': 2,\n",
    "    'n_estimators': 500\n",
    "}\n",
    "\n",
    "best_xgb_model = XGBClassifier(**best_params_xgb)\n",
    "best_xgb_model.fit(X_train, y_train_encoded)\n",
    "xgb_predictions_encoded = best_xgb_model.predict(X_test)\n",
    "xgb_predictions_original = label_encoder.inverse_transform(xgb_predictions_encoded)\n",
    "\n",
    "precision_scores_xgb = precision_score(y_test, xgb_predictions_original, average=None)\n",
    "recall_scores_xgb = recall_score(y_test, xgb_predictions_original, average=None)\n",
    "f1_scores_xgb = f1_score(y_test, xgb_predictions_original, average=None)\n",
    "\n",
    "scores_df_xgb = pd.DataFrame({\n",
    "    'Label': label_encoder.classes_,\n",
    "    'Precision (XGB)': precision_scores_xgb,\n",
    "    'Recall (XGB)': recall_scores_xgb,\n",
    "    'F1 Score (XGB)': f1_scores_xgb\n",
    "})\n",
    "\n",
    "print(scores_df_xgb)\n",
    "\n",
    "class_report_xgb = classification_report(y_test, xgb_predictions_original)\n",
    "print(class_report_xgb)"
   ]
  },
  {
   "cell_type": "code",
   "execution_count": 16,
   "id": "381736c9",
   "metadata": {
    "execution": {
     "iopub.execute_input": "2023-12-04T16:37:17.847306Z",
     "iopub.status.busy": "2023-12-04T16:37:17.845740Z",
     "iopub.status.idle": "2023-12-04T16:37:18.854509Z",
     "shell.execute_reply": "2023-12-04T16:37:18.852712Z"
    },
    "papermill": {
     "duration": 1.029336,
     "end_time": "2023-12-04T16:37:18.858737",
     "exception": false,
     "start_time": "2023-12-04T16:37:17.829401",
     "status": "completed"
    },
    "tags": []
   },
   "outputs": [
    {
     "name": "stdout",
     "output_type": "stream",
     "text": [
      "XGB Test Score: 0.760952660982064\n"
     ]
    }
   ],
   "source": [
    "print(f'XGB Test Score: {best_xgb_model.score(X_test, y_test_encoded)}')"
   ]
  },
  {
   "cell_type": "code",
   "execution_count": 17,
   "id": "0b1afa6c",
   "metadata": {
    "execution": {
     "iopub.execute_input": "2023-12-04T16:37:18.893923Z",
     "iopub.status.busy": "2023-12-04T16:37:18.893463Z",
     "iopub.status.idle": "2023-12-04T16:37:20.052649Z",
     "shell.execute_reply": "2023-12-04T16:37:20.051213Z"
    },
    "papermill": {
     "duration": 1.179455,
     "end_time": "2023-12-04T16:37:20.055914",
     "exception": false,
     "start_time": "2023-12-04T16:37:18.876459",
     "status": "completed"
    },
    "tags": []
   },
   "outputs": [
    {
     "name": "stdout",
     "output_type": "stream",
     "text": [
      "XGB AUC Score (Class 0): 0.8817324088899114\n",
      "XGB AUC Score (Class 1): 0.8721179649424674\n",
      "XGB AUC Score (Class 2): 0.9416790845430928\n",
      "XGB AUC Score (Class 3): 0.9973324511937942\n",
      "XGB Average AUC Score: 0.9232154773923165\n"
     ]
    }
   ],
   "source": [
    "from sklearn.metrics import roc_auc_score, roc_curve\n",
    "\n",
    "# Make predictions on the test set probabilities for each class\n",
    "probabilities = best_xgb_model.predict_proba(X_test)\n",
    "\n",
    "# Calculate AUC score for each class\n",
    "auc_scores = []\n",
    "for i in range(probabilities.shape[1]):\n",
    "    auc_score_class_i = roc_auc_score(y_test_encoded == i, probabilities[:, i])\n",
    "    auc_scores.append(auc_score_class_i)\n",
    "    print(f'XGB AUC Score (Class {i}): {auc_score_class_i}')\n",
    "\n",
    "# Average AUC scores over all classes\n",
    "average_auc_score_xgb = np.mean(auc_scores)\n",
    "print(f'XGB Average AUC Score: {average_auc_score_xgb}')\n",
    "\n",
    "# Optionally, you can print the AUC score for each class separately\n"
   ]
  },
  {
   "cell_type": "markdown",
   "id": "525cabf8",
   "metadata": {
    "papermill": {
     "duration": 0.014881,
     "end_time": "2023-12-04T16:37:20.085799",
     "exception": false,
     "start_time": "2023-12-04T16:37:20.070918",
     "status": "completed"
    },
    "tags": []
   },
   "source": [
    "Random Forest Classifier"
   ]
  },
  {
   "cell_type": "code",
   "execution_count": 18,
   "id": "1d7dadf8",
   "metadata": {
    "execution": {
     "iopub.execute_input": "2023-12-04T16:37:20.120811Z",
     "iopub.status.busy": "2023-12-04T16:37:20.119470Z",
     "iopub.status.idle": "2023-12-04T16:37:20.303058Z",
     "shell.execute_reply": "2023-12-04T16:37:20.301020Z"
    },
    "papermill": {
     "duration": 0.204618,
     "end_time": "2023-12-04T16:37:20.306167",
     "exception": false,
     "start_time": "2023-12-04T16:37:20.101549",
     "status": "completed"
    },
    "tags": []
   },
   "outputs": [],
   "source": [
    "from sklearn.ensemble import RandomForestClassifier\n",
    "\n",
    "# pipe = Pipeline(steps=[\n",
    "#     ('scaler', StandardScaler()),\n",
    "#     ('poly', PolynomialFeatures(degree=1)),\n",
    "#     ('mod', RandomForestClassifier())\n",
    "# ])\n",
    "\n",
    "# param_grid = {\n",
    "#     'mod__n_estimators': [50, 100, 200],         \n",
    "#     'mod__max_depth': [30],         \n",
    "#     'mod__min_samples_split': [10],          \n",
    "#     'mod__min_samples_leaf': [1]\n",
    "# }\n",
    "\n",
    "# gridcv = GridSearchCV(pipe,\n",
    "#                       param_grid=param_grid,\n",
    "#                       return_train_score=True,\n",
    "#                       cv=2,\n",
    "#                       verbose=3)\n",
    "\n",
    "# gridcv.fit(X_train, y_train_encoded)\n",
    "\n",
    "# print(f'Best Hyperparameters: {gridcv.best_params_}')\n",
    "# print(f'Random Forest Score: {gridcv.score(X_test, y_test_encoded)}')"
   ]
  },
  {
   "cell_type": "code",
   "execution_count": 19,
   "id": "7264af61",
   "metadata": {
    "execution": {
     "iopub.execute_input": "2023-12-04T16:37:20.338967Z",
     "iopub.status.busy": "2023-12-04T16:37:20.338519Z",
     "iopub.status.idle": "2023-12-04T16:43:46.909489Z",
     "shell.execute_reply": "2023-12-04T16:43:46.908163Z"
    },
    "papermill": {
     "duration": 386.590747,
     "end_time": "2023-12-04T16:43:46.912428",
     "exception": false,
     "start_time": "2023-12-04T16:37:20.321681",
     "status": "completed"
    },
    "tags": []
   },
   "outputs": [
    {
     "name": "stdout",
     "output_type": "stream",
     "text": [
      "Random Forest Training Score: 0.8895656861374943\n",
      "Random Forest Test Score: 0.7924466660132641\n"
     ]
    }
   ],
   "source": [
    "best_params = {\n",
    "    'max_depth': 30,\n",
    "    'min_samples_leaf': 1,\n",
    "    'min_samples_split': 10,\n",
    "    'n_estimators': 200\n",
    "}\n",
    "\n",
    "best_rf_model = RandomForestClassifier(**best_params)\n",
    "best_rf_model.fit(X_train, y_train_encoded)\n",
    "\n",
    "train_score = best_rf_model.score(X_train, y_train_encoded)\n",
    "print(f'Random Forest Training Score: {train_score}')\n",
    "\n",
    "print(f'Random Forest Test Score: {best_rf_model.score(X_test, y_test_encoded)}')"
   ]
  },
  {
   "cell_type": "markdown",
   "id": "cbfaf122",
   "metadata": {
    "papermill": {
     "duration": 0.015267,
     "end_time": "2023-12-04T16:43:46.942792",
     "exception": false,
     "start_time": "2023-12-04T16:43:46.927525",
     "status": "completed"
    },
    "tags": []
   },
   "source": [
    "Evaluation"
   ]
  },
  {
   "cell_type": "code",
   "execution_count": 20,
   "id": "e7d1de54",
   "metadata": {
    "execution": {
     "iopub.execute_input": "2023-12-04T16:43:46.976962Z",
     "iopub.status.busy": "2023-12-04T16:43:46.975642Z",
     "iopub.status.idle": "2023-12-04T16:43:53.275463Z",
     "shell.execute_reply": "2023-12-04T16:43:53.274095Z"
    },
    "papermill": {
     "duration": 6.32073,
     "end_time": "2023-12-04T16:43:53.278622",
     "exception": false,
     "start_time": "2023-12-04T16:43:46.957892",
     "status": "completed"
    },
    "tags": []
   },
   "outputs": [],
   "source": [
    "rf_predictions_encoded = best_rf_model.predict(X_test)\n",
    "rf_predictions_original = label_encoder.inverse_transform(rf_predictions_encoded)"
   ]
  },
  {
   "cell_type": "code",
   "execution_count": 21,
   "id": "0400a795",
   "metadata": {
    "execution": {
     "iopub.execute_input": "2023-12-04T16:43:53.311970Z",
     "iopub.status.busy": "2023-12-04T16:43:53.311513Z",
     "iopub.status.idle": "2023-12-04T16:43:53.333881Z",
     "shell.execute_reply": "2023-12-04T16:43:53.332620Z"
    },
    "papermill": {
     "duration": 0.042403,
     "end_time": "2023-12-04T16:43:53.336606",
     "exception": false,
     "start_time": "2023-12-04T16:43:53.294203",
     "status": "completed"
    },
    "tags": []
   },
   "outputs": [
    {
     "data": {
      "text/html": [
       "<div>\n",
       "<style scoped>\n",
       "    .dataframe tbody tr th:only-of-type {\n",
       "        vertical-align: middle;\n",
       "    }\n",
       "\n",
       "    .dataframe tbody tr th {\n",
       "        vertical-align: top;\n",
       "    }\n",
       "\n",
       "    .dataframe thead th {\n",
       "        text-align: right;\n",
       "    }\n",
       "</style>\n",
       "<table border=\"1\" class=\"dataframe\">\n",
       "  <thead>\n",
       "    <tr style=\"text-align: right;\">\n",
       "      <th></th>\n",
       "      <th>Actual_encoded</th>\n",
       "      <th>Actual</th>\n",
       "      <th>Predicted_encoded</th>\n",
       "      <th>Predicted</th>\n",
       "    </tr>\n",
       "  </thead>\n",
       "  <tbody>\n",
       "    <tr>\n",
       "      <th>171895</th>\n",
       "      <td>0</td>\n",
       "      <td>0-30</td>\n",
       "      <td>0</td>\n",
       "      <td>0-30</td>\n",
       "    </tr>\n",
       "    <tr>\n",
       "      <th>607760</th>\n",
       "      <td>1</td>\n",
       "      <td>31-60</td>\n",
       "      <td>1</td>\n",
       "      <td>31-60</td>\n",
       "    </tr>\n",
       "    <tr>\n",
       "      <th>175254</th>\n",
       "      <td>3</td>\n",
       "      <td>max</td>\n",
       "      <td>3</td>\n",
       "      <td>max</td>\n",
       "    </tr>\n",
       "    <tr>\n",
       "      <th>108654</th>\n",
       "      <td>0</td>\n",
       "      <td>0-30</td>\n",
       "      <td>0</td>\n",
       "      <td>0-30</td>\n",
       "    </tr>\n",
       "    <tr>\n",
       "      <th>142505</th>\n",
       "      <td>1</td>\n",
       "      <td>31-60</td>\n",
       "      <td>1</td>\n",
       "      <td>31-60</td>\n",
       "    </tr>\n",
       "    <tr>\n",
       "      <th>...</th>\n",
       "      <td>...</td>\n",
       "      <td>...</td>\n",
       "      <td>...</td>\n",
       "      <td>...</td>\n",
       "    </tr>\n",
       "    <tr>\n",
       "      <th>263727</th>\n",
       "      <td>1</td>\n",
       "      <td>31-60</td>\n",
       "      <td>1</td>\n",
       "      <td>31-60</td>\n",
       "    </tr>\n",
       "    <tr>\n",
       "      <th>530045</th>\n",
       "      <td>1</td>\n",
       "      <td>31-60</td>\n",
       "      <td>1</td>\n",
       "      <td>31-60</td>\n",
       "    </tr>\n",
       "    <tr>\n",
       "      <th>197994</th>\n",
       "      <td>1</td>\n",
       "      <td>31-60</td>\n",
       "      <td>1</td>\n",
       "      <td>31-60</td>\n",
       "    </tr>\n",
       "    <tr>\n",
       "      <th>405238</th>\n",
       "      <td>1</td>\n",
       "      <td>31-60</td>\n",
       "      <td>0</td>\n",
       "      <td>0-30</td>\n",
       "    </tr>\n",
       "    <tr>\n",
       "      <th>475145</th>\n",
       "      <td>2</td>\n",
       "      <td>61-90</td>\n",
       "      <td>1</td>\n",
       "      <td>31-60</td>\n",
       "    </tr>\n",
       "  </tbody>\n",
       "</table>\n",
       "<p>61218 rows × 4 columns</p>\n",
       "</div>"
      ],
      "text/plain": [
       "        Actual_encoded Actual  Predicted_encoded Predicted\n",
       "171895               0   0-30                  0      0-30\n",
       "607760               1  31-60                  1     31-60\n",
       "175254               3    max                  3       max\n",
       "108654               0   0-30                  0      0-30\n",
       "142505               1  31-60                  1     31-60\n",
       "...                ...    ...                ...       ...\n",
       "263727               1  31-60                  1     31-60\n",
       "530045               1  31-60                  1     31-60\n",
       "197994               1  31-60                  1     31-60\n",
       "405238               1  31-60                  0      0-30\n",
       "475145               2  61-90                  1     31-60\n",
       "\n",
       "[61218 rows x 4 columns]"
      ]
     },
     "execution_count": 21,
     "metadata": {},
     "output_type": "execute_result"
    }
   ],
   "source": [
    "result_df = pd.DataFrame({'Actual_encoded': y_test_encoded, 'Actual': y_test, 'Predicted_encoded': rf_predictions_encoded, 'Predicted': rf_predictions_original})\n",
    "result_df"
   ]
  },
  {
   "cell_type": "code",
   "execution_count": 22,
   "id": "37e349d3",
   "metadata": {
    "execution": {
     "iopub.execute_input": "2023-12-04T16:43:53.370981Z",
     "iopub.status.busy": "2023-12-04T16:43:53.370491Z",
     "iopub.status.idle": "2023-12-04T16:43:53.382671Z",
     "shell.execute_reply": "2023-12-04T16:43:53.381403Z"
    },
    "papermill": {
     "duration": 0.032709,
     "end_time": "2023-12-04T16:43:53.385507",
     "exception": false,
     "start_time": "2023-12-04T16:43:53.352798",
     "status": "completed"
    },
    "tags": []
   },
   "outputs": [
    {
     "data": {
      "text/html": [
       "<div>\n",
       "<style scoped>\n",
       "    .dataframe tbody tr th:only-of-type {\n",
       "        vertical-align: middle;\n",
       "    }\n",
       "\n",
       "    .dataframe tbody tr th {\n",
       "        vertical-align: top;\n",
       "    }\n",
       "\n",
       "    .dataframe thead th {\n",
       "        text-align: right;\n",
       "    }\n",
       "</style>\n",
       "<table border=\"1\" class=\"dataframe\">\n",
       "  <thead>\n",
       "    <tr style=\"text-align: right;\">\n",
       "      <th></th>\n",
       "      <th>Actual_encoded</th>\n",
       "      <th>Actual</th>\n",
       "      <th>Predicted_encoded</th>\n",
       "      <th>Predicted</th>\n",
       "    </tr>\n",
       "  </thead>\n",
       "  <tbody>\n",
       "  </tbody>\n",
       "</table>\n",
       "</div>"
      ],
      "text/plain": [
       "Empty DataFrame\n",
       "Columns: [Actual_encoded, Actual, Predicted_encoded, Predicted]\n",
       "Index: []"
      ]
     },
     "execution_count": 22,
     "metadata": {},
     "output_type": "execute_result"
    }
   ],
   "source": [
    "result_df[result_df['Actual_encoded'] == 4]"
   ]
  },
  {
   "cell_type": "code",
   "execution_count": 23,
   "id": "2b0fd79a",
   "metadata": {
    "execution": {
     "iopub.execute_input": "2023-12-04T16:43:53.421896Z",
     "iopub.status.busy": "2023-12-04T16:43:53.420681Z",
     "iopub.status.idle": "2023-12-04T16:44:01.322560Z",
     "shell.execute_reply": "2023-12-04T16:44:01.320853Z"
    },
    "papermill": {
     "duration": 7.923806,
     "end_time": "2023-12-04T16:44:01.325406",
     "exception": false,
     "start_time": "2023-12-04T16:43:53.401600",
     "status": "completed"
    },
    "tags": []
   },
   "outputs": [
    {
     "name": "stdout",
     "output_type": "stream",
     "text": [
      "   Label  Precision    Recall  F1 Score\n",
      "0   0-30   0.767995  0.806740  0.786891\n",
      "1  31-60   0.773417  0.783962  0.778654\n",
      "2  61-90   0.811429  0.573261  0.671862\n",
      "3    max   0.994456  0.926960  0.959522\n",
      "              precision    recall  f1-score   support\n",
      "\n",
      "        0-30       0.77      0.81      0.79     25313\n",
      "       31-60       0.77      0.78      0.78     25889\n",
      "       61-90       0.81      0.57      0.67      4211\n",
      "         max       0.99      0.93      0.96      5805\n",
      "\n",
      "    accuracy                           0.79     61218\n",
      "   macro avg       0.84      0.77      0.80     61218\n",
      "weighted avg       0.79      0.79      0.79     61218\n",
      "\n"
     ]
    }
   ],
   "source": [
    "# Calculate precision, recall, and F1 scores for each label\n",
    "precision_scores = precision_score(y_test, rf_predictions_original, average=None)\n",
    "recall_scores = recall_score(y_test, rf_predictions_original, average=None)\n",
    "f1_scores = f1_score(y_test, rf_predictions_original, average=None)\n",
    "\n",
    "# Create a DataFrame to display the scores\n",
    "scores_df = pd.DataFrame({\n",
    "    'Label': label_encoder.classes_,\n",
    "    'Precision': precision_scores,\n",
    "    'Recall': recall_scores,\n",
    "    'F1 Score': f1_scores\n",
    "})\n",
    "\n",
    "# Display the DataFrame\n",
    "print(scores_df)\n",
    "\n",
    "# Alternatively, you can use classification_report for a more detailed report\n",
    "class_report = classification_report(y_test, rf_predictions_original)\n",
    "print(class_report)"
   ]
  },
  {
   "cell_type": "code",
   "execution_count": 24,
   "id": "e0d67059",
   "metadata": {
    "execution": {
     "iopub.execute_input": "2023-12-04T16:44:01.361094Z",
     "iopub.status.busy": "2023-12-04T16:44:01.360609Z",
     "iopub.status.idle": "2023-12-04T16:44:12.339154Z",
     "shell.execute_reply": "2023-12-04T16:44:12.337910Z"
    },
    "papermill": {
     "duration": 10.999735,
     "end_time": "2023-12-04T16:44:12.341982",
     "exception": false,
     "start_time": "2023-12-04T16:44:01.342247",
     "status": "completed"
    },
    "tags": []
   },
   "outputs": [
    {
     "name": "stdout",
     "output_type": "stream",
     "text": [
      "Micro-Averaged Precision: 0.7924\n",
      "Micro-Averaged Recall: 0.7924\n",
      "Micro-Averaged F1 Score: 0.7924\n",
      "\n",
      "Label-wise Scores:\n",
      "   Label  Precision    Recall  F1 Score\n",
      "0   0-30   0.767995  0.806740  0.786891\n",
      "1  31-60   0.773417  0.783962  0.778654\n",
      "2  61-90   0.811429  0.573261  0.671862\n",
      "3    max   0.994456  0.926960  0.959522\n",
      "\n",
      "Classification Report:\n",
      "              precision    recall  f1-score   support\n",
      "\n",
      "        0-30       0.77      0.81      0.79     25313\n",
      "       31-60       0.77      0.78      0.78     25889\n",
      "       61-90       0.81      0.57      0.67      4211\n",
      "         max       0.99      0.93      0.96      5805\n",
      "\n",
      "    accuracy                           0.79     61218\n",
      "   macro avg       0.84      0.77      0.80     61218\n",
      "weighted avg       0.79      0.79      0.79     61218\n",
      "\n"
     ]
    }
   ],
   "source": [
    "# Calculate precision, recall, and F1 scores using micro-averaging\n",
    "precision_micro = precision_score(y_test, rf_predictions_original, average='micro')\n",
    "recall_micro = recall_score(y_test, rf_predictions_original, average='micro')\n",
    "f1_micro = f1_score(y_test, rf_predictions_original, average='micro')\n",
    "\n",
    "# Display micro-averaged scores\n",
    "print(f'Micro-Averaged Precision: {precision_micro:.4f}')\n",
    "print(f'Micro-Averaged Recall: {recall_micro:.4f}')\n",
    "print(f'Micro-Averaged F1 Score: {f1_micro:.4f}')\n",
    "\n",
    "# Calculate precision, recall, and F1 scores for each label\n",
    "precision_scores = precision_score(y_test, rf_predictions_original, average=None)\n",
    "recall_scores = recall_score(y_test, rf_predictions_original, average=None)\n",
    "f1_scores = f1_score(y_test, rf_predictions_original, average=None)\n",
    "\n",
    "# Create a DataFrame to display the scores\n",
    "scores_df = pd.DataFrame({\n",
    "    'Label': label_encoder.classes_,\n",
    "    'Precision': precision_scores,\n",
    "    'Recall': recall_scores,\n",
    "    'F1 Score': f1_scores\n",
    "})\n",
    "\n",
    "# Display the DataFrame\n",
    "print(\"\\nLabel-wise Scores:\")\n",
    "print(scores_df)\n",
    "\n",
    "class_report = classification_report(y_test, rf_predictions_original)\n",
    "print(\"\\nClassification Report:\")\n",
    "print(class_report)\n"
   ]
  },
  {
   "cell_type": "code",
   "execution_count": 25,
   "id": "4bb543c3",
   "metadata": {
    "execution": {
     "iopub.execute_input": "2023-12-04T16:44:12.377154Z",
     "iopub.status.busy": "2023-12-04T16:44:12.376730Z",
     "iopub.status.idle": "2023-12-04T16:44:18.563471Z",
     "shell.execute_reply": "2023-12-04T16:44:18.562453Z"
    },
    "papermill": {
     "duration": 6.207592,
     "end_time": "2023-12-04T16:44:18.566184",
     "exception": false,
     "start_time": "2023-12-04T16:44:12.358592",
     "status": "completed"
    },
    "tags": []
   },
   "outputs": [
    {
     "name": "stdout",
     "output_type": "stream",
     "text": [
      "RF AUC Score (Class 0): 0.9077762747953071\n",
      "RF AUC Score (Class 1): 0.9006433257206836\n",
      "RF AUC Score (Class 2): 0.9556712543940232\n",
      "RF AUC Score (Class 3): 0.9960239493921248\n",
      "RF Average AUC Score: 0.9400287010755346\n"
     ]
    }
   ],
   "source": [
    "from sklearn.metrics import roc_auc_score, roc_curve\n",
    "\n",
    "# Make predictions on the test set probabilities for each class\n",
    "probabilities = best_rf_model.predict_proba(X_test)\n",
    "\n",
    "# Calculate AUC score for each class\n",
    "auc_scores = []\n",
    "for i in range(probabilities.shape[1]):\n",
    "    auc_score_class_i = roc_auc_score(y_test_encoded == i, probabilities[:, i])\n",
    "    auc_scores.append(auc_score_class_i)\n",
    "    print(f'RF AUC Score (Class {i}): {auc_score_class_i}')\n",
    "\n",
    "# Average AUC scores over all classes\n",
    "average_auc_score_xgb = np.mean(auc_scores)\n",
    "print(f'RF Average AUC Score: {average_auc_score_xgb}')"
   ]
  },
  {
   "cell_type": "code",
   "execution_count": null,
   "id": "1a8e31c0",
   "metadata": {
    "papermill": {
     "duration": 0.016102,
     "end_time": "2023-12-04T16:44:18.599083",
     "exception": false,
     "start_time": "2023-12-04T16:44:18.582981",
     "status": "completed"
    },
    "tags": []
   },
   "outputs": [],
   "source": []
  }
 ],
 "metadata": {
  "kaggle": {
   "accelerator": "none",
   "dataSources": [
    {
     "datasetId": 4093247,
     "sourceId": 7100788,
     "sourceType": "datasetVersion"
    },
    {
     "datasetId": 4108199,
     "sourceId": 7122274,
     "sourceType": "datasetVersion"
    }
   ],
   "dockerImageVersionId": 30587,
   "isGpuEnabled": false,
   "isInternetEnabled": true,
   "language": "python",
   "sourceType": "notebook"
  },
  "kernelspec": {
   "display_name": "Python 3",
   "language": "python",
   "name": "python3"
  },
  "language_info": {
   "codemirror_mode": {
    "name": "ipython",
    "version": 3
   },
   "file_extension": ".py",
   "mimetype": "text/x-python",
   "name": "python",
   "nbconvert_exporter": "python",
   "pygments_lexer": "ipython3",
   "version": "3.10.12"
  },
  "papermill": {
   "default_parameters": {},
   "duration": 588.711075,
   "end_time": "2023-12-04T16:44:19.641599",
   "environment_variables": {},
   "exception": null,
   "input_path": "__notebook__.ipynb",
   "output_path": "__notebook__.ipynb",
   "parameters": {},
   "start_time": "2023-12-04T16:34:30.930524",
   "version": "2.4.0"
  }
 },
 "nbformat": 4,
 "nbformat_minor": 5
}
