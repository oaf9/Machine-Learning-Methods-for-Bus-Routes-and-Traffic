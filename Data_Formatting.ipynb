{
 "cells": [
  {
   "cell_type": "markdown",
   "metadata": {},
   "source": [
    "## Import Libraries"
   ]
  },
  {
   "cell_type": "code",
   "execution_count": 9,
   "metadata": {},
   "outputs": [],
   "source": [
    "import numpy as np\n",
    "import pandas as pd\n",
    "import warnings\n",
    "\n",
    "warnings.filterwarnings('ignore')"
   ]
  },
  {
   "cell_type": "markdown",
   "metadata": {},
   "source": [
    "## Methods that collect all the odd entries and reformat them into the correct bin"
   ]
  },
  {
   "cell_type": "code",
   "execution_count": 2,
   "metadata": {},
   "outputs": [],
   "source": [
    "#formatting functions:\n",
    " \n",
    "def fix_time_formatt(strs):\n",
    "\n",
    "    for index, s in enumerate(strs): \n",
    "\n",
    "        #just have a list of every occuring format and convert them to standardized formats\n",
    "        if s in ['1/2 hour', 'Half hour', 'half hour', '1/2hour', '1/2 hr']:\n",
    "            strs[index] = '0-30'\n",
    "        if s in ['1 hour','1 hour lat' , '1hr/????mi', '1hr late', '1hr', \n",
    "                 '1 hours', '1:00 h', '1 hours','one hour' ,'1hr','1 Hour', '1 hr','1 Hour', \n",
    "                 '1hour', '1:hr', '1ho', \"\\\\\" + '1 hr-', 'hour','1:00 hour' ,'1 hr.', '1 Hour', \n",
    "                 '1 hr', '1 hrs', '1 Hour', '1hour', '1:hr', '1hr????', '1hr?????', '1hr???', '1hr??', '1hr?', '1 hourr']:\n",
    "            strs[index] = '31-60'\n",
    "        if s in ['45min/1hr','40-1hr' ,'40-1 hour' ,'50min 1hr','50-1hr', \n",
    "                 '50-1 hour','45min - 1h' ,'45 -1hour','45mins 1hr', \n",
    "                 '45mini/1hr', '45min-1 hr', '45-1hour','45min-1 hr',  \n",
    "                 '45-1hour', '45/1hour', '45min-1 hr', '45 -1 hour', \n",
    "                 '45min -1hr', '45 min-1hr', '45 min-1 h','45min-1hr', \n",
    "                 '45-1hr', '45min/1hr', '45 min-1 h']:\n",
    "            strs[index] = '31 - 60'\n",
    "        if s in ['1hr 30mins', '1hr /30min','1hour 30mi', '1 hourhalf','1hr/1hr 30',\n",
    "            '1hr - 11/2','1hr - 1 1/2','1hr-1 1/2', '1.5 hr', '1 hr 30' , '1 hr 30', \n",
    "            '1 1/2 hour', '1:30 h', '1hr&30min', '1.5 hour','1 hr 30 mi', '1 hr 30min', \n",
    "            '1hr 30 min', '1hr/30min?', '1hr 30min', '1hr/30min', '1hr 10mins','1hr 15mins', \n",
    "            '1 hr 15', '1 hour 15', '1hr/15min', '1 hr 15min']:\n",
    "            strs[index] = '61-90'\n",
    "        if s in ['2 hours', '2:hr', '2hr', '2hrs','2 hour', '2 Hours', \n",
    "                 '2 hrs','2 Hours', '2hours', '2:hrs', '2hrs????', \n",
    "                 '2hrs?????', '2hrs???', '2hrs??', '2hrs?', '2 hr']:\n",
    "            strs[index] = '91 - 120'\n",
    "        if s in ['1hr 20mins', '1 hr 20', '1hr/20min', '1hr/20min','1hr 20 min',\n",
    "                 '1hr. 20 mi', '1hr20 mins','1hrs 20mnt', '1hour 20mi','1 hr 20min']:\n",
    "            strs[index] = '61-90'\n",
    "        if s in ['1hr 45mins', '1:45hr','1 hr 45', '1hr - 1:45', '1hour45min', \n",
    "                 '1 hr 45min','1hr 45 min', '1hr 40 min', '1hr45min', '1hr 45min']:\n",
    "            strs[index] = 'max'\n",
    "        if s in ['4 hrs', '4 hours']:\n",
    "            strs[index] = 'max'\n",
    "        if s in ['3 hrs', '3 hr', '3 hours']:\n",
    "            strs[index] = 'max'\n",
    "        if s in ['30hr', '30hour']:\n",
    "            strs[index] = 'max'\n",
    "\n",
    "\n",
    "    # this gets rid of non-numeric characters\n",
    "    for index, st in enumerate(strs):\n",
    "        if(st == 'max'):\n",
    "            continue\n",
    "        else:\n",
    "            ns = ''.join(i for i in st if i.isdigit() or i == '-')\n",
    "        strs[index] = ns\n",
    "    \n",
    "    return strs\n"
   ]
  },
  {
   "cell_type": "code",
   "execution_count": 3,
   "metadata": {},
   "outputs": [],
   "source": [
    "def group_windows(strs):\n",
    "    #We group all the different windows together\n",
    "    for index, s in enumerate(strs): \n",
    "        if s in ['0', '6', '26', '9', '2', '14', '5','5-7','11','5-8','12-18','17','22','5-1','8','24',' 20-20','10-','18',\n",
    "                 '20-32','20-20','6-7','510', '8-10', '10-18', '19','15-45', '10-12', '15-250','15-','10-14','7-8', '12-15',\n",
    "                 '18-25', '25-20', '15-20','15-25' ,'13-15', '12-20','1015','15-15', '11', '17','10-30', '1427', '20-', '-10',\n",
    "                 '2530', '10', '0-10', '10-40','0-15', '15', '25','10-15', '25-35','27','10-11', '15-10','23','2-30', '15-', '-15','25--',\n",
    "                 '16-30','15-30', '1','20-30', '20-25','28', '20','7-10','26','08','25-', '-25','5-15','35','24','29','15-320','12','4','10-112',\n",
    "                 '10-20', '25', '25-30','5-10', '20-225','13', '3', '7','20-15', '2030', '25-300',  '1530', '2015', '1435', '0000', '000', \n",
    "                 '250', '300','20-28','20-35','21']:\n",
    "            strs[index] = '0-30'\n",
    "        if s in ['30', '30-40', '30-1','40-1' ,'2025','1-', '50-1','56', '30-' ,'3035','40-50' ,'31-45', '37','41',\n",
    "                 '35-45','40-45','40-60','30-60','45-1','40','46-50','20-40', '40-5','50-60','30-50','40-55','31', '32', '25-40','49',\n",
    "                 '46-60', '42','30-35', '59', '45-55','4545', '3254', '35-40','39','25-45','39', '3545', '36',\n",
    "                 '30', '30-40','43','49','3040','31-45','30-45', '46-50', '60', '51','34','52-30','50', '40','4560','450',\n",
    "                 '35','55' , '58', '57','45' ,'46','35','46-60', '50-1', '45-60', '54','30-70', '30-75','100']:\n",
    "            strs[index] = '31-60'\n",
    "        if s in ['60-90', '80', '65','90','75']:\n",
    "            strs[index] = '61-90'\n",
    "        if s in ['105', '130', '120']:\n",
    "            strs[index] = 'max'\n",
    "    return strs\n"
   ]
  },
  {
   "cell_type": "markdown",
   "metadata": {},
   "source": [
    "## Build Formatting Method"
   ]
  },
  {
   "cell_type": "code",
   "execution_count": 4,
   "metadata": {},
   "outputs": [],
   "source": [
    "def reformatt(df): \n",
    "    data = df.copy()\n",
    "    \n",
    "    #fix times \n",
    "    data['How_Long_Delayed'] = data['How_Long_Delayed'].fillna('max')\n",
    "\n",
    "    times_as_strings = data['How_Long_Delayed'].to_string().split('\\n')\n",
    "    times_as_strings = [s.split(None, 1)[1] for s in times_as_strings]\n",
    "    times_as_strings = fix_time_formatt(times_as_strings)\n",
    "    times_as_strings = group_windows(times_as_strings)\n",
    "    data['How_Long_Delayed'] = times_as_strings\n",
    "\n",
    "    #get rid of rows with invalid time entries, unfortunately these are just bad data and we can't use them. \n",
    "    data = data[data['How_Long_Delayed'].isin(['0-30','max','31-60','61-90'])]\n",
    "\n",
    "    return data\n"
   ]
  },
  {
   "cell_type": "markdown",
   "metadata": {},
   "source": [
    "## Process and Export the Data"
   ]
  },
  {
   "cell_type": "code",
   "execution_count": 5,
   "metadata": {},
   "outputs": [],
   "source": [
    "warnings.filterwarnings('ignore')\n",
    "df = pd.read_csv('NYC_data.csv')"
   ]
  },
  {
   "cell_type": "code",
   "execution_count": 6,
   "metadata": {},
   "outputs": [],
   "source": [
    "df = reformatt(df)\n",
    "df.to_csv('formatted_data.csv', index=False)"
   ]
  },
  {
   "cell_type": "code",
   "execution_count": null,
   "metadata": {},
   "outputs": [],
   "source": [
    "df.head(50)"
   ]
  }
 ],
 "metadata": {
  "kernelspec": {
   "display_name": "base",
   "language": "python",
   "name": "python3"
  },
  "language_info": {
   "codemirror_mode": {
    "name": "ipython",
    "version": 3
   },
   "file_extension": ".py",
   "mimetype": "text/x-python",
   "name": "python",
   "nbconvert_exporter": "python",
   "pygments_lexer": "ipython3",
   "version": "3.9.7"
  }
 },
 "nbformat": 4,
 "nbformat_minor": 2
}
